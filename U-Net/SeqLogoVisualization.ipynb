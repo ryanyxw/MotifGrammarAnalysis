{
 "cells": [
  {
   "cell_type": "code",
   "execution_count": 1,
   "id": "44e9b030",
   "metadata": {},
   "outputs": [],
   "source": [
    "import numpy as np\n",
    "import pandas as pd\n",
    "import seqlogo"
   ]
  },
  {
   "cell_type": "code",
   "execution_count": 2,
   "id": "eadd925b",
   "metadata": {},
   "outputs": [],
   "source": [
    "#Read in the lines\n",
    "ifile = open(\"PWMOut.txt\", 'r')\n",
    "line = ifile.readline()\n",
    "ppmArr = []\n",
    "while (line != \"\" and line != \"\\n\"):\n",
    "    ppmArr += [list(map(lambda x : eval(x), line.strip().split(\" \")))]\n",
    "    line = ifile.readline()\n"
   ]
  },
  {
   "cell_type": "code",
   "execution_count": 3,
   "id": "0f33e92b",
   "metadata": {},
   "outputs": [],
   "source": [
    "#Make sure the sum of each line exactly matches 1\n",
    "npArray = np.array(ppmArr)\n",
    "b = npArray / npArray.sum(axis = 1, keepdims = 1)\n"
   ]
  },
  {
   "cell_type": "code",
   "execution_count": 4,
   "id": "facd1530",
   "metadata": {},
   "outputs": [],
   "source": [
    "#Create a ppm logo\n",
    "ppm = seqlogo.Ppm(b)"
   ]
  },
  {
   "cell_type": "code",
   "execution_count": 5,
   "id": "cf06397e",
   "metadata": {},
   "outputs": [],
   "source": [
    "cpm = seqlogo.CompletePm(ppm = ppm)"
   ]
  },
  {
   "cell_type": "code",
   "execution_count": 6,
   "id": "3134cfd6",
   "metadata": {},
   "outputs": [
    {
     "name": "stdout",
     "output_type": "stream",
     "text": [
      "AGTTGCATCGACTACCTCCGGAATTATAACGTGACCTTACGTGACCTCAGCCTGGGTTCACTCAGTGTAGTACTTCCCCATGTCGGCAGTGTGGACGCAACCGGAAGTGGTTCGCCATGGAAAACTCC\n"
     ]
    }
   ],
   "source": [
    "print(cpm.consensus)"
   ]
  },
  {
   "cell_type": "code",
   "execution_count": 7,
   "id": "8bb88a6c",
   "metadata": {},
   "outputs": [],
   "source": [
    "a = seqlogo.seqlogo(ppm, ic_scale = True, format = 'png', size = 'large')"
   ]
  },
  {
   "cell_type": "code",
   "execution_count": 8,
   "id": "61e65bf3",
   "metadata": {},
   "outputs": [
    {
     "data": {
      "image/png": "[encoded data removed]",
      "text/plain": [
       "<IPython.core.display.Image object>"
      ]
     },
     "execution_count": 8,
     "metadata": {},
     "output_type": "execute_result"
    }
   ],
   "source": [
    "a\n"
   ]
  },
  {
   "cell_type": "code",
   "execution_count": null,
   "id": "8bd57f94",
   "metadata": {},
   "outputs": [],
   "source": []
  },
  {
   "cell_type": "code",
   "execution_count": null,
   "id": "026b42fd",
   "metadata": {},
   "outputs": [],
   "source": []
  }
 ],
 "metadata": {
  "kernelspec": {
   "display_name": "Python 3 (ipykernel)",
   "language": "python",
   "name": "python3"
  },
  "language_info": {
   "codemirror_mode": {
    "name": "ipython",
    "version": 3
   },
   "file_extension": ".py",
   "mimetype": "text/x-python",
   "name": "python",
   "nbconvert_exporter": "python",
   "pygments_lexer": "ipython3",
   "version": "3.9.6"
  }
 },
 "nbformat": 4,
 "nbformat_minor": 5
}
