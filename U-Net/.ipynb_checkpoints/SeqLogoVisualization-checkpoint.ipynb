{
 "cells": [
  {
   "cell_type": "code",
   "execution_count": 1,
   "id": "b591eb27",
   "metadata": {},
   "outputs": [],
   "source": [
    "import numpy as np\n",
    "import pandas as pd\n",
    "import seqlogo"
   ]
  },
  {
   "cell_type": "code",
   "execution_count": 2,
   "id": "c7775ace",
   "metadata": {},
   "outputs": [],
   "source": [
    "#Read in the lines\n",
    "ifile = open(\"PWMOut.txt\", 'r')\n",
    "line = ifile.readline()\n",
    "ppmArr = []\n",
    "while (line != \"\" and line != \"\\n\"):\n",
    "    ppmArr += [list(map(lambda x : eval(x), line.strip().split(\" \")))]\n",
    "    line = ifile.readline()\n"
   ]
  },
  {
   "cell_type": "code",
   "execution_count": 3,
   "id": "2b772c69",
   "metadata": {},
   "outputs": [],
   "source": [
    "#Make sure the sum of each line exactly matches 1\n",
    "npArray = np.array(ppmArr)\n",
    "b = npArray / npArray.sum(axis = 1, keepdims = 1)\n"
   ]
  },
  {
   "cell_type": "code",
   "execution_count": 4,
   "id": "0b0b3acb",
   "metadata": {},
   "outputs": [],
   "source": [
    "#Create a ppm logo\n",
    "ppm = seqlogo.Ppm(b)"
   ]
  },
  {
   "cell_type": "code",
   "execution_count": 5,
   "id": "63f826d7",
   "metadata": {},
   "outputs": [],
   "source": [
    "cpm = seqlogo.CompletePm(ppm = ppm)"
   ]
  },
  {
   "cell_type": "code",
   "execution_count": 6,
   "id": "894f3cc2",
   "metadata": {},
   "outputs": [
    {
     "name": "stdout",
     "output_type": "stream",
     "text": [
      "CTAATTACCCGCGCATCACAAACTGTTTGCACACTACTTCTTTCGAAAAAGGAAACCGAAACTGTCTCACCATGTACTCAAACGCCTGAGGCATTTCCTATGCCGAGGTGACCTTACGTGACCTCAGG\n"
     ]
    }
   ],
   "source": [
    "print(cpm.consensus)"
   ]
  },
  {
   "cell_type": "code",
   "execution_count": 7,
   "id": "33ef217c",
   "metadata": {},
   "outputs": [],
   "source": [
    "a = seqlogo.seqlogo(ppm, ic_scale = True, format = 'png', size = 'large')"
   ]
  },
  {
   "cell_type": "code",
   "execution_count": 8,
   "id": "936cf59d",
   "metadata": {},
   "outputs": [
    {
     "data": {
      "image/png": "[encoded data removed]",
      "text/plain": [
       "<IPython.core.display.Image object>"
      ]
     },
     "execution_count": 8,
     "metadata": {},
     "output_type": "execute_result"
    }
   ],
   "source": [
    "a\n"
   ]
  },
  {
   "cell_type": "code",
   "execution_count": null,
   "id": "69d561e0",
   "metadata": {},
   "outputs": [],
   "source": []
  },
  {
   "cell_type": "code",
   "execution_count": null,
   "id": "4d12499c",
   "metadata": {},
   "outputs": [],
   "source": []
  }
 ],
 "metadata": {
  "kernelspec": {
   "display_name": "Python 3 (ipykernel)",
   "language": "python",
   "name": "python3"
  },
  "language_info": {
   "codemirror_mode": {
    "name": "ipython",
    "version": 3
   },
   "file_extension": ".py",
   "mimetype": "text/x-python",
   "name": "python",
   "nbconvert_exporter": "python",
   "pygments_lexer": "ipython3",
   "version": "3.9.6"
  }
 },
 "nbformat": 4,
 "nbformat_minor": 5
}
